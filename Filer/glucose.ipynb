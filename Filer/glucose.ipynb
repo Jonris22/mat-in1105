{
 "cells": [
  {
   "cell_type": "markdown",
   "metadata": {},
   "source": [
    "# Oppgave 1.1: Glukose\n",
    "#### På en vekt måler en kjemiker opp 3,243 g glukose, $C_6H_{12}O_6$, som skal brukes i en reaksjon.\n",
    "\n",
    "##### ___a)___ Lag et Python-skript som beregner og printer den molare massen til glukose fra de molare massene til karbon, hydrogen og oksygen."
   ]
  },
  {
   "cell_type": "code",
   "execution_count": 40,
   "metadata": {},
   "outputs": [
    {
     "name": "stdin",
     "output_type": "stream",
     "text": [
      "Hvor mange karbonatomer?  6\n",
      "Hvor mange hydrogenatomer?  12\n",
      "Hvor mange oksygenatomer?  6\n"
     ]
    },
    {
     "name": "stdout",
     "output_type": "stream",
     "text": [
      "Den molare massen til C_6 H_12 O_6 er 180.15u\n"
     ]
    }
   ],
   "source": [
    "import math\n",
    "\n",
    "def glu(c, h, o):\n",
    "    return C*c + H*h + O*o\n",
    "\n",
    "C = 12.0107\n",
    "H = 1.00784\n",
    "O = 15.999\n",
    "\n",
    "antall_C = float(input('Hvor mange karbonatomer? '))\n",
    "antall_H = float(input('Hvor mange hydrogenatomer? '))\n",
    "antall_O = float(input('Hvor mange oksygenatomer? '))\n",
    "\n",
    "print(f'Den molare massen til C_{antall_C:.0f} H_{antall_H:.0f} O_{antall_O:.0f} er {glu(antall_C, antall_H, antall_O):.2f}u')"
   ]
  },
  {
   "cell_type": "markdown",
   "metadata": {},
   "source": [
    "##### ___b)___ Modifiser skriptet ditt så den beregner og printer hvor mange mol glukose det er."
   ]
  },
  {
   "cell_type": "code",
   "execution_count": 41,
   "metadata": {},
   "outputs": [
    {
     "name": "stdout",
     "output_type": "stream",
     "text": [
      " Det er 1.08e+25 mol i 3.243g glukose.\n"
     ]
    }
   ],
   "source": [
    "import numpy as np\n",
    "\n",
    "glukose = 3.243\n",
    "u = 1.66053886 * 10**(-27)\n",
    "\n",
    "antall_mol = glukose/(glu(antall_C, antall_H, antall_O)*u)\n",
    "\n",
    "print(f' Det er {np.format_float_scientific(antall_mol, precision=2)} mol i {glukose}g glukose.')"
   ]
  },
  {
   "cell_type": "markdown",
   "metadata": {},
   "source": [
    "##### ___c)___ Modifiser skriptet ditt så den beregner og printer omtrent hvor mange atomer glukose det er"
   ]
  },
  {
   "cell_type": "code",
   "execution_count": 42,
   "metadata": {},
   "outputs": [
    {
     "name": "stdout",
     "output_type": "stream",
     "text": [
      "I 3.243g glukose er det 6.53e+48 atomer.\n"
     ]
    }
   ],
   "source": [
    "N_A = 6.022*10**23\n",
    "\n",
    "antall_atomer = N_A * antall_mol\n",
    "\n",
    "print(f'I {glukose}g glukose er det {np.format_float_scientific(antall_atomer, precision=2)} atomer.')"
   ]
  },
  {
   "cell_type": "code",
   "execution_count": null,
   "metadata": {},
   "outputs": [],
   "source": []
  }
 ],
 "metadata": {
  "kernelspec": {
   "display_name": "Python 3",
   "language": "python",
   "name": "python3"
  },
  "language_info": {
   "codemirror_mode": {
    "name": "ipython",
    "version": 3
   },
   "file_extension": ".py",
   "mimetype": "text/x-python",
   "name": "python",
   "nbconvert_exporter": "python",
   "pygments_lexer": "ipython3",
   "version": "3.7.3"
  }
 },
 "nbformat": 4,
 "nbformat_minor": 4
}
