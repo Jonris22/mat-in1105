{
 "cells": [
  {
   "cell_type": "code",
   "execution_count": 17,
   "metadata": {},
   "outputs": [
    {
     "name": "stdout",
     "output_type": "stream",
     "text": [
      "Arealet til parallellogrammet er 10.000\n",
      "Arealet til kvadratet er 4\n",
      "Arealet til sirkelen er 7.069\n",
      "Volumet til kjeglen er 11.781\n"
     ]
    }
   ],
   "source": [
    "from math import pi\n",
    "\n",
    "h = 5.0 # height\n",
    "b = 2.0 # base\n",
    "r = 1.5 # radius\n",
    "\n",
    "area_parallelogram = h*b\n",
    "area_square = b**2\n",
    "area_circle = pi*(r**2)\n",
    "volume_cone = 1.0/3*pi*(r**2)*h\n",
    "\n",
    "print(f'Arealet til parallellogrammet er {area_parallelogram:.3f}')\n",
    "print(f'Arealet til kvadratet er {area_square:g}')\n",
    "print(f'Arealet til sirkelen er {area_circle:.3f}')\n",
    "print(f'Volumet til kjeglen er {volume_cone:.3f}')"
   ]
  },
  {
   "cell_type": "code",
   "execution_count": null,
   "metadata": {},
   "outputs": [],
   "source": []
  }
 ],
 "metadata": {
  "kernelspec": {
   "display_name": "Python 3",
   "language": "python",
   "name": "python3"
  },
  "language_info": {
   "codemirror_mode": {
    "name": "ipython",
    "version": 3
   },
   "file_extension": ".py",
   "mimetype": "text/x-python",
   "name": "python",
   "nbconvert_exporter": "python",
   "pygments_lexer": "ipython3",
   "version": "3.7.3"
  }
 },
 "nbformat": 4,
 "nbformat_minor": 4
}
