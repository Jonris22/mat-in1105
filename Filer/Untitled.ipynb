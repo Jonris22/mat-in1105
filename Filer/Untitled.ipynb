{
 "cells": [
  {
   "cell_type": "code",
   "execution_count": 8,
   "metadata": {},
   "outputs": [
    {
     "name": "stdin",
     "output_type": "stream",
     "text": [
      "Har du et komplekst polynom?  nei\n",
      "Hva er a?  1\n",
      "Hva er b?  -2\n",
      "Hva er c?  2\n"
     ]
    },
    {
     "name": "stdout",
     "output_type": "stream",
     "text": [
      "1.00+1.00j og 1.00-1.00j er løsningene til det reelle polynomet\n"
     ]
    }
   ],
   "source": [
    "import numpy.lib.scimath as np\n",
    "\n",
    "def roots(a, b, c): #definere funksjonen for røttene til et andregrads polynom\n",
    "    if b**2 - 4*a*c == 0: # om det er dobbel rot\n",
    "        return (- b + np.sqrt(b**2 - 4*a*c))/(2*a)\n",
    "    else:\n",
    "        return (- b + np.sqrt(b**2 - 4*a*c))/(2*a), (- b - np.sqrt(b**2 - 4*a*c))/(2*a)\n",
    "\n",
    "\n",
    "i = input('Har du et komplekst polynom? ')\n",
    "if i == 'ja':\n",
    "    \"\"\"\n",
    "    Imaginær delen til røttene blir tillatt til å være lik 0 i en fin utskrift,\n",
    "    men det gjør ikke real delen, altså er r = 0 + 1i ikke en fin føring mens\n",
    "    r = 1 + 0i er en godkjent måte å føre på\n",
    "    \"\"\"\n",
    "    a = complex(input('Hva er a?(j for roten av -1) ')) # komplekse polynom har alltid komplekse koeffisienter (R er en delmengde av C)\n",
    "    b = complex(input('Hva er b?(j for roten av -1) '))\n",
    "    c = complex(input('Hva er c?(j for roten av -1) '))\n",
    "    if b**2 - 4*a*c == 0:\n",
    "        if roots(a, b, c).real == 0:\n",
    "            print ('%.0fj er den dobbelte roten til det komplekse polynomet' % roots(a, b, c).imag)\n",
    "        elif roots(a, b, c) < 0:\n",
    "            print ('%.0f%.0fj er den dobbelte roten til det komplekse polyniomet' % (roots(a, b, c).real, roots(a, b, c).imag))\n",
    "        else:\n",
    "            print ('%.0f+%.0fj er den dobbelte roten til det kommplekse polynomet' % ((roots(a, b, c).real, roots(a, b, c).imag)))\n",
    "    elif roots(a, b, c)[0].real == 0: # røttene er på form r_1 = b_1*i og r_2 = a_2 + b_2*i\n",
    "        if roots(a, b, c)[0].imag < 0 and roots(a, b, c)[1].imag > 0:\n",
    "            print ('%.0fj og %.0f+%.0fj er løsningene på det komplekse polynomet' % (roots(a, b, c)[0].imag, roots(a, b, c)[1].real, roots(a, b, c)[1].imag))\n",
    "        elif roots(a, b, c)[0].imag > 0 and roots(a, b, c)[1].imag < 0:\n",
    "            print ('%.0fj og %.0f%.0fj er løsningene på det komplekse polynomet' % (roots(a, b, c)[0].imag, roots(a, b, c)[1].real, roots(a, b, c)[1].imag))\n",
    "        elif roots(a, b, c)[0].imag < 0 and roots(a, b, c)[1].imag < 0:\n",
    "            print ('%.0fj og %.0f%.0fj er løsningene på det komplekse polynomet' % (roots(a, b, c)[0].imag, roots(a, b, c)[1].real, roots(a, b, c)[1].imag))\n",
    "        else:\n",
    "            print ('%.0fj og %0.f+%.0fj er løsningene på det komplekse polynomet' % (roots(a, b, c)[0].imag, roots(a, b, c)[1].real, roots(a, b, c)[1].imag))\n",
    "    elif roots(a, b, c)[1].real == 0: # røttene på form r_1 = a_1 + b_1*i og r_2 = b_2*i  \n",
    "        if roots(a, b, c)[0].imag < 0 and roots(a, b, c)[1].imag > 0:\n",
    "            print ('%.0f%.0fj og %.0fj er løsningene på det komplekse polynomet' % (roots(a, b, c)[0].real, roots(a, b, c)[0].imag, roots(a, b, c)[1].imag))\n",
    "        elif roots(a, b, c)[0].imag > 0 and roots(a, b, c)[1].imag < 0:\n",
    "            print ('%.0f+%.0fj og %.0fj er løsningene på det komplekse polynomet' % (roots(a, b, c)[0].real, roots(a, b, c)[0].imag, roots(a, b, c)[1].imag))\n",
    "        elif roots(a, b, c)[0].imag < 0 and roots(a, b, c)[1].imag < 0:\n",
    "            print ('%.0f%.0fj og %.0fj er løsningene på det komplekse polynomet' % (roots(a, b, c)[0].real, roots(a, b, c)[0].imag, roots(a, b, c)[1].imag))\n",
    "        else:\n",
    "            print ('%.0f+%.0fj og %.0fj er løsningene på det komplekse polynomet' % (roots(a, b, c)[0].real, roots(a, b, c)[0].imag, roots(a, b, c)[1].imag))\n",
    "    else: #røttene er på formen r_1 = a_1 +  b_1*i og r_2 = a_2 + b_2*i\n",
    "        if roots(a, b, c)[0].imag < 0 and roots(a, b, c)[1].imag > 0:\n",
    "            print ('%.0f%.0fj og %.0f+%.0fj er løsningene på det komplekse polynomet' % (roots(a, b, c)[0].real, roots(a, b, c)[0].imag, roots(a, b, c)[1].real, roots(a, b, c)[1].imag))\n",
    "        elif roots(a, b, c)[0].imag > 0 and roots(a, b, c)[1].imag < 0:\n",
    "            print ('%.0f+%.0fj og %.0f%.0fj er løsningene på det komplekse polynomet' % (roots(a, b, c)[0].real, roots(a, b, c)[0].imag, roots(a, b, c)[1].real, roots(a, b, c)[1].imag))\n",
    "        elif roots(a, b, c)[0].imag < 0 and roots(a, b, c)[1].imag < 0:\n",
    "            print ('%.0f%.0fj og %.0f%.0fj er løsningene på det komplekse polynomet' % (roots(a, b, c)[0].real, roots(a, b, c)[0].imag, roots(a, b, c)[1].real, roots(a, b, c)[1].imag))\n",
    "        else:\n",
    "            print ('%.0f+%.0fj og %.0f+%.0fj er løsningene på det komplekse polynomet' % (roots(a, b, c)[0].real, roots(a, b, c)[0].imag, roots(a, b, c)[1].real, roots(a, b, c)[1].imag))\n",
    "else:\n",
    "    a = float(input('Hva er a? ')) #definerer a,b,c som floats siden et polynom kan ha koeffisienter i R, ikke bare i N\n",
    "    b = float(input('Hva er b? '))\n",
    "    c = float(input('Hva er c? '))\n",
    "    if b**2 - 4*a*c == 0: # for dobbel løsning\n",
    "        print ('%.2f er den \"doble løsningen\" til det reelle polynomet' % roots(a, b, c))\n",
    "    elif b**2 - 4*a*c > 0: # for reell løsning\n",
    "        print ('%.2f og %.2f er røttene til det reelle polynomet' % (roots(a, b, c)[0], roots(a, b, c)[1]))\n",
    "    else: # for kompleks løsning.\n",
    "        \"\"\"\n",
    "        Siden røttene er på formen r = a +/- bi, trenger vi ikke å finne hvilken som er positi eller negativ her,\n",
    "        fordi utifra abc fomelen vil den første imaginærdelen  alltid være positiv og den andre alltid negativ.\n",
    "        \"\"\" \n",
    "        if roots(a, b, c)[0].real == 0: # real delen er lik i begge løsningene, og for begrunnelse se string i kompleks avdeling\n",
    "            print ('%.2fj og %.2fj er løsningene til det reelle polynomet' % (roots(a, b, c)[0].imag, roots(a, b, c)[1].imag))\n",
    "        else:\n",
    "            print ('%.2f+%.2fj og %.2f%.2fj er løsningene til det reelle polynomet' % (roots(a, b, c)[0].real, roots(a, b, c)[0].imag, roots(a, b, c)[1].real, roots(a, b, c)[1].imag))"
   ]
  },
  {
   "cell_type": "code",
   "execution_count": 9,
   "metadata": {},
   "outputs": [
    {
     "data": {
      "text/plain": [
       "1.0"
      ]
     },
     "execution_count": 9,
     "metadata": {},
     "output_type": "execute_result"
    }
   ],
   "source": [
    "roots(a,b,c)[0].real"
   ]
  },
  {
   "cell_type": "code",
   "execution_count": null,
   "metadata": {},
   "outputs": [],
   "source": []
  }
 ],
 "metadata": {
  "kernelspec": {
   "display_name": "Python 3",
   "language": "python",
   "name": "python3"
  },
  "language_info": {
   "codemirror_mode": {
    "name": "ipython",
    "version": 3
   },
   "file_extension": ".py",
   "mimetype": "text/x-python",
   "name": "python",
   "nbconvert_exporter": "python",
   "pygments_lexer": "ipython3",
   "version": "3.7.3"
  }
 },
 "nbformat": 4,
 "nbformat_minor": 4
}
