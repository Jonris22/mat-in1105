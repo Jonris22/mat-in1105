{
 "cells": [
  {
   "cell_type": "markdown",
   "metadata": {},
   "source": [
    "## ball_cml.py"
   ]
  },
  {
   "cell_type": "code",
   "execution_count": 9,
   "metadata": {},
   "outputs": [
    {
     "name": "stdin",
     "output_type": "stream",
     "text": [
      "Angi en verdi for startfarten (m/s):  20\n",
      "Angi en verdi for tiden (s):  3\n"
     ]
    },
    {
     "name": "stdout",
     "output_type": "stream",
     "text": [
      "15.854999999999997\n"
     ]
    }
   ],
   "source": [
    "g = 9.81\n",
    "\n",
    "v0 = float(input('Angi en verdi for startfarten (m/s): '))\n",
    "t = float(input('Angi en verdi for tiden (s): '))\n",
    "\n",
    "\n",
    "y = v0*t - 0.5*g*t**2\n",
    "print(y)"
   ]
  },
  {
   "cell_type": "markdown",
   "metadata": {},
   "source": [
    "## ball_cml_qa.py"
   ]
  },
  {
   "cell_type": "code",
   "execution_count": null,
   "metadata": {},
   "outputs": [],
   "source": []
  },
  {
   "cell_type": "markdown",
   "metadata": {},
   "source": [
    "## quadratic_roots_input.py"
   ]
  },
  {
   "cell_type": "code",
   "execution_count": 1,
   "metadata": {},
   "outputs": [
    {
     "name": "stdin",
     "output_type": "stream",
     "text": [
      "Velg en verdi for a:  1\n",
      "Velg en verdi for b:  1\n",
      "Velg en verdi for c:  1\n"
     ]
    },
    {
     "name": "stdout",
     "output_type": "stream",
     "text": [
      "Uttrykket får komplekse løsninger.\n"
     ]
    }
   ],
   "source": [
    "a = input('Velg en verdi for a: ')\n",
    "while not a.isdigit():\n",
    "    a = input('Skriv inn en tall-verdi for a: ')\n",
    "a = float(a)\n",
    "\n",
    "b = input('Velg en verdi for b: ')\n",
    "while not b.isdigit():\n",
    "    a = input('Skriv inn en tall-verdi for b: ')\n",
    "b = float(b)\n",
    "\n",
    "c = input('Velg en verdi for c: ')\n",
    "while not c.isdigit():\n",
    "    c = input('Skriv inn en tall-verdi for c: ')\n",
    "c = float(c)\n",
    "\n",
    "q = b**2-4*a*c\n",
    "\n",
    "if q < 0:\n",
    "    print(f'Uttrykket får komplekse løsninger.')\n",
    "elif q == 0:\n",
    "    s = (-b)/(2*a)\n",
    "    print(f'For de gitte verdiene får du én løsning: x = {s}')\n",
    "else:\n",
    "    s_1 = (-b + q**0.5)/(2*a)\n",
    "    s_2 = (-b - q**0.5)/(2*a)\n",
    "    print(f'For de gitte verdiene får du to løsninger: x = {s_1} og x = {s_2}')"
   ]
  },
  {
   "cell_type": "code",
   "execution_count": 10,
   "metadata": {},
   "outputs": [
    {
     "name": "stdin",
     "output_type": "stream",
     "text": [
      "Velg en verdi for a:  3\n",
      "Velg en verdi for b:  -2\n",
      "Velg en verdi for c:  4\n"
     ]
    },
    {
     "name": "stdout",
     "output_type": "stream",
     "text": [
      "Polynomet har komplekse løsninger:\n",
      "x = 0.33+1.11i\n",
      "x = 0.33-1.11i\n"
     ]
    }
   ],
   "source": [
    "def abc(a, b, q):\n",
    "    if q == 0:\n",
    "        return (-b)/(2*a)\n",
    "    else:\n",
    "        return (-b + q**0.5)/(2*a), (-b - q**0.5)/(2*a)\n",
    "\n",
    "a = float(input('Velg en verdi for a: '))\n",
    "b = float(input('Velg en verdi for b: '))\n",
    "c = float(input('Velg en verdi for c: '))\n",
    "\n",
    "q = b**2 - 4*a*c\n",
    "\n",
    "if q == 0:\n",
    "    print(f'Polynomet har én løsning: x = {abc(a, b, q)}')\n",
    "elif q > 0:\n",
    "    print(f'Polynomet har to løsninger: x = {abc(a, b, q)[0]} og {abc(a, b, q)[1]}')\n",
    "else:\n",
    "    print(f'Polynomet har komplekse løsninger:')\n",
    "    print(f'x = {abc(a, b, q)[0].real:.2f}+{abc(a, b, q)[0].imag:.2f}i')\n",
    "    print(f'x = {abc(a, b, q)[0].real:.2f}{abc(a, b, q)[1].imag:.2f}i')"
   ]
  },
  {
   "cell_type": "markdown",
   "metadata": {},
   "source": [
    "## quadratic_roots_error.py"
   ]
  },
  {
   "cell_type": "code",
   "execution_count": 2,
   "metadata": {},
   "outputs": [
    {
     "name": "stdin",
     "output_type": "stream",
     "text": [
      "Velg en verdi for a:  2\n",
      "Velg en verdi for b:  -4\n",
      "Velg en verdi for c:  3\n"
     ]
    },
    {
     "name": "stdout",
     "output_type": "stream",
     "text": [
      "Polynomet har komplekse løsninger:\n",
      "x = 1.00+0.71i\n",
      "x = 1.00-0.71i\n"
     ]
    }
   ],
   "source": [
    "import sys\n",
    "\n",
    "def abc(a, b, q):\n",
    "    if q == 0:\n",
    "        return (-b)/(2*a)\n",
    "    else:\n",
    "        return (-b + q**0.5)/(2*a), (-b - q**0.5)/(2*a)\n",
    "\n",
    "try:\n",
    "    a = float(sys.argv[1])\n",
    "    b = float(sys.argv[2])\n",
    "    c = float(sys.argv[3])\n",
    "except ValueError: \n",
    "    a = float(input('Velg en verdi for a: '))\n",
    "    b = float(input('Velg en verdi for b: '))\n",
    "    c = float(input('Velg en verdi for c: '))\n",
    "\n",
    "q = b**2 - 4*a*c\n",
    "\n",
    "if q == 0:\n",
    "    print(f'Polynomet har én løsning: x = {abc(a, b, q)}')\n",
    "elif q > 0:\n",
    "    print(f'Polynomet har to løsninger: x = {abc(a, b, q)[0]} og {abc(a, b, q)[1]}')\n",
    "else:\n",
    "    print(f'Polynomet har komplekse løsninger:')\n",
    "    print(f'x = {abc(a, b, q)[0].real:.2f}+{abc(a, b, q)[0].imag:.2f}i')\n",
    "    print(f'x = {abc(a, b, q)[0].real:.2f}{abc(a, b, q)[1].imag:.2f}i')"
   ]
  },
  {
   "cell_type": "markdown",
   "metadata": {},
   "source": [
    "## quadratic_roots_error2.py"
   ]
  },
  {
   "cell_type": "code",
   "execution_count": 12,
   "metadata": {},
   "outputs": [
    {
     "name": "stdin",
     "output_type": "stream",
     "text": [
      "Velg en verdi for a:  2\n",
      "Velg en verdi for b:  2\n",
      "Velg en verdi for c:  2\n"
     ]
    },
    {
     "name": "stdout",
     "output_type": "stream",
     "text": [
      "Polynomet får komplekse løsninger.\n",
      "Men løsningene blir x = -0.50+0.87i og x = -0.50-0.87i\n"
     ]
    }
   ],
   "source": [
    "import sys\n",
    "from math import sqrt\n",
    "\n",
    "def abc(a, b, q):\n",
    "    if q == 0:\n",
    "        return (-b)/(2*a)\n",
    "    else:\n",
    "        return (-b + q**0.5)/(2*a), (-b - q**0.5)/(2*a)\n",
    "\n",
    "try:\n",
    "    a = float(sys.argv[1])\n",
    "    b = float(sys.argv[2])\n",
    "    c = float(sys.argv[3])\n",
    "except ValueError: \n",
    "    a = float(input('Velg en verdi for a: '))\n",
    "    b = float(input('Velg en verdi for b: '))\n",
    "    c = float(input('Velg en verdi for c: '))\n",
    "except IndexError:\n",
    "    a = float(input('Velg en verdi for a: '))\n",
    "    b = float(input('Velg en verdi for b: '))\n",
    "    c = float(input('Velg en verdi for c: '))\n",
    "\n",
    "\n",
    "q = b**2 - 4*a*c\n",
    "\n",
    "\n",
    "try:\n",
    "    sqrt(q)\n",
    "except ValueError:\n",
    "    print(f'Polynomet får komplekse løsninger.')\n",
    "\n",
    "\n",
    "if q == 0:\n",
    "    print(f'Polynomet har én løsning: x = {abc(a, b, q)}')\n",
    "elif q > 0:\n",
    "    print(f'Polynomet har to løsninger: x = {abc(a, b, q)[0]} og {abc(a, b, q)[1]}')"
   ]
  },
  {
   "cell_type": "code",
   "execution_count": null,
   "metadata": {},
   "outputs": [],
   "source": []
  }
 ],
 "metadata": {
  "kernelspec": {
   "display_name": "Python 3",
   "language": "python",
   "name": "python3"
  },
  "language_info": {
   "codemirror_mode": {
    "name": "ipython",
    "version": 3
   },
   "file_extension": ".py",
   "mimetype": "text/x-python",
   "name": "python",
   "nbconvert_exporter": "python",
   "pygments_lexer": "ipython3",
   "version": "3.7.3"
  }
 },
 "nbformat": 4,
 "nbformat_minor": 4
}
