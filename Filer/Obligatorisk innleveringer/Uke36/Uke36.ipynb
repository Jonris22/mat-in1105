{
 "cells": [
  {
   "cell_type": "markdown",
   "metadata": {},
   "source": [
    "## Exercise 2.4: Generate odd numbers\n",
    "#### Write a program that generates all odd numbers from 1 to n. Set n in the beginning of the program and use a while loop to compute the numbers. (Make sure that if n is an even number, the largest generated odd number is n-1.)"
   ]
  },
  {
   "cell_type": "code",
   "execution_count": 32,
   "metadata": {},
   "outputs": [
    {
     "name": "stdin",
     "output_type": "stream",
     "text": [
      "Velg n:  10\n"
     ]
    },
    {
     "name": "stdout",
     "output_type": "stream",
     "text": [
      "[1, 3, 5, 7, 9]\n"
     ]
    }
   ],
   "source": [
    "n = int(input('Velg n: '))\n",
    "q = 0\n",
    "liste = []\n",
    "\n",
    "while q <= n:\n",
    "    if q % 2 == 0:\n",
    "        q += 1\n",
    "    else:\n",
    "        liste += [q]\n",
    "        q += 1\n",
    "            \n",
    "print(liste)"
   ]
  },
  {
   "cell_type": "markdown",
   "metadata": {},
   "source": [
    "## Exercise 2.9: Store values from a formula in lists\n",
    "#### This exercise aims to produce the same table of numbers as in Exercise 2.8, but with different code. First, store the t and y values in two lists t and y. Thereafter, write out a nicely formatted table by traversing the two lists with a for loop. \n",
    "\n",
    "#### _Hint_ In the for loop, use either zip to traverse the two lists in parallel, or use an index and the range construction."
   ]
  },
  {
   "cell_type": "code",
   "execution_count": 14,
   "metadata": {},
   "outputs": [
    {
     "name": "stdin",
     "output_type": "stream",
     "text": [
      "Skriv inn startfarten:  18\n"
     ]
    },
    {
     "name": "stdout",
     "output_type": "stream",
     "text": [
      "Tid (s)     Avstand (m)\n",
      "0           0           \n",
      "1           13          \n",
      "2           16          \n"
     ]
    }
   ],
   "source": [
    "g = 9.81\n",
    "v_0 = float(input('Skriv inn startfarten: '))\n",
    "t = []\n",
    "y = []\n",
    "\n",
    "def f(t):\n",
    "    return v_0*t - 0.5*g*t**2\n",
    "\n",
    "for k in range(int(2*v_0/g)):\n",
    "    t += [k]\n",
    "\n",
    "for q in range(int(2*v_0/g)):\n",
    "    y += [f(q)]\n",
    "    \n",
    "print('Tid (s)     Avstand (m)')    \n",
    "for i in range(int(2*v_0/g)):\n",
    "        print('%-12i%-12i' % (t[i], y[i]))"
   ]
  },
  {
   "cell_type": "code",
   "execution_count": 31,
   "metadata": {},
   "outputs": [
    {
     "name": "stdout",
     "output_type": "stream",
     "text": [
      "Tid (s)     Avstand (m)\n",
      "0.00        0.00\n",
      "0.37        5.94\n",
      "0.73        10.57\n",
      "1.10        13.87\n",
      "1.47        15.85\n",
      "1.83        16.51\n",
      "2.20        15.85\n",
      "2.57        13.87\n",
      "2.94        10.57\n",
      "3.30        5.94\n"
     ]
    }
   ],
   "source": [
    "g = 9.81\n",
    "t = []\n",
    "y = []\n",
    "\n",
    "v_0 = int(input('Velg startfart (m/s): '))\n",
    "t_max = 2*v_0/g\n",
    "n = int(input('Velg antall steg: '))\n",
    "\n",
    "def f(t):\n",
    "    return v_0*t - 0.5*g*t**2\n",
    "\n",
    "h = t_max/n\n",
    "\n",
    "for i in range(n):\n",
    "    t.append(h*i)\n",
    "\n",
    "for i in range(n):\n",
    "    y.append(f(t[i]))\n",
    "    \n",
    "print('Tid (s)     Avstand (m)') \n",
    "for a,b in zip(t,y):\n",
    "        print(f'{a:.2f}        {b:.2f}')"
   ]
  },
  {
   "cell_type": "markdown",
   "metadata": {},
   "source": [
    "## Problem 2.4. Errors in summation\n",
    "#### The following code is supposed to compute a sum."
   ]
  },
  {
   "cell_type": "code",
   "execution_count": 11,
   "metadata": {},
   "outputs": [
    {
     "name": "stdout",
     "output_type": "stream",
     "text": [
      "\n",
      "For-loop:   0.3402777777777778\n",
      "\n",
      "While-loop: 0.3402777777777778\n",
      "\n"
     ]
    }
   ],
   "source": [
    "s = 0\n",
    "M = 3\n",
    "\n",
    "for k in range(M): #Programmet brukte i som variabel her og k i linjen under\n",
    "    s += 1/((2*(k+1))**2) #Programmet manglet innrykk og formaterte formelen feil\n",
    "\n",
    "    \n",
    "q = 1\n",
    "t = 0\n",
    "\n",
    "while q <= M:\n",
    "    t += 1/((2*q)**2)\n",
    "    q += 1\n",
    "    \n",
    "print(f'''\n",
    "For-loop:   {s}\n",
    "\n",
    "While-loop: {t}\n",
    "''')"
   ]
  },
  {
   "cell_type": "markdown",
   "metadata": {},
   "source": [
    "## Problem 2.6. Table showing population growth\n",
    "#### Consider again the bacterial colony from Problem 1.2. Let us study the number of individuals for n + 1 uniformly spaced t values throughout the interval [0, 48]. Set n = 12. First store the t and N values in two lists t and N. Thereafter, write out a nicely formatted table of t and N values by traversing the two lists with a (separate) for loop"
   ]
  },
  {
   "cell_type": "code",
   "execution_count": 5,
   "metadata": {},
   "outputs": [
    {
     "name": "stdout",
     "output_type": "stream",
     "text": [
      "Tid (h)     Populasjon (stk)\n",
      "1           5974        \n",
      "5           11598       \n",
      "9           20098       \n",
      "13          29967       \n",
      "17          38450       \n",
      "21          44054       \n",
      "25          47141       \n",
      "29          48673       \n",
      "33          49395       \n",
      "37          49726       \n",
      "41          49876       \n",
      "45          49944       \n"
     ]
    }
   ],
   "source": [
    "from math import exp\n",
    "\n",
    "def N(B, k, C, t):                 #Definerer en funksjon for variablene B, k, C og t\n",
    "    return B/(1 + C*exp(-k*t))     #Returnerer summen av uttrykket når funksjonen blir kalt på\n",
    "\n",
    "B = 50000 #Maks befolkning\n",
    "k = 0.2 #Vekstfaktor per time\n",
    "C = (B/5000) - 1 #Start befolkning\n",
    "tid = 48 #tid i timer\n",
    "n = 12\n",
    "h = int(tid/n)\n",
    "\n",
    "\n",
    "t = list(range(1, tid, h))\n",
    "\n",
    "print('Tid (h)     Populasjon (stk)')    \n",
    "for i in t:\n",
    "    print('%-12i%-12i' % (i, N(B, k, C, i)))"
   ]
  },
  {
   "cell_type": "markdown",
   "metadata": {},
   "source": [
    "## Problem 2.10. Molar Mass of Alkanes\n",
    "#### Alkanes are saturated hydrocarbons with the chemical formula CnH2n+2. If there are n Carbon atoms in the alkane, there will be m = 2n + 2 Hydrogen atoms. The molar mass of the hydrocarbon is MCnHm = nMC + mMH, where MC is the molar mass of Carbon and MH is the molar mass of Hydrogen. Use a for-loop or a while-loop to compute and print out the molar mass of the alkanes with two through nine Carbon atoms (n ∈ [2, 9]). The output should specify the chemical formula of the alkane as well as the molar mass. An example on how the formatted output should look like for n = 2 is given below. M(C2H6) = 30.069 g/mol You can set the molar masses of the atoms to be MC = 12.011 g/mol and MH = 1.0079 g/mol"
   ]
  },
  {
   "cell_type": "code",
   "execution_count": 2,
   "metadata": {},
   "outputs": [
    {
     "name": "stdout",
     "output_type": "stream",
     "text": [
      "M(C2H6) = 30.07 g/mol\n",
      "M(C3H8) = 44.10 g/mol\n",
      "M(C4H10) = 58.12 g/mol\n",
      "M(C5H12) = 72.15 g/mol\n",
      "M(C6H14) = 86.18 g/mol\n",
      "M(C7H16) = 100.20 g/mol\n",
      "M(C8H18) = 114.23 g/mol\n",
      "M(C9H20) = 128.26 g/mol\n"
     ]
    }
   ],
   "source": [
    "M_C = 12.011\n",
    "M_H = 1.0079\n",
    "\n",
    "n = []\n",
    "m = []\n",
    "\n",
    "MCH = []\n",
    "\n",
    "def M(n, m):\n",
    "    return n*M_C + m*M_H\n",
    "\n",
    "for i in range(8):\n",
    "    n += [i+2]\n",
    "    m += [2*n[i]+2]\n",
    "\n",
    "for k in range(len(n)):\n",
    "    MCH += [M(n[k], m[k])]\n",
    "    print(f'M(C{n[k]}H{m[k]}) = {MCH[k]:.2f} g/mol')"
   ]
  },
  {
   "cell_type": "code",
   "execution_count": null,
   "metadata": {},
   "outputs": [],
   "source": []
  },
  {
   "cell_type": "code",
   "execution_count": null,
   "metadata": {},
   "outputs": [],
   "source": []
  }
 ],
 "metadata": {
  "kernelspec": {
   "display_name": "Python 3",
   "language": "python",
   "name": "python3"
  },
  "language_info": {
   "codemirror_mode": {
    "name": "ipython",
    "version": 3
   },
   "file_extension": ".py",
   "mimetype": "text/x-python",
   "name": "python",
   "nbconvert_exporter": "python",
   "pygments_lexer": "ipython3",
   "version": "3.7.3"
  }
 },
 "nbformat": 4,
 "nbformat_minor": 4
}
