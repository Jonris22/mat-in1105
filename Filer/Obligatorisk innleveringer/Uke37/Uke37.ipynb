{
 "cells": [
  {
   "cell_type": "markdown",
   "metadata": {},
   "source": [
    "## f2c_approx_table.py"
   ]
  },
  {
   "cell_type": "code",
   "execution_count": 12,
   "metadata": {},
   "outputs": [
    {
     "name": "stdout",
     "output_type": "stream",
     "text": [
      "Fahrenheit        Celsius           Approximate Celsius\n",
      "0                 -17               -15         \n",
      "10                -12               -10         \n",
      "20                -6                -5          \n",
      "30                -1                0           \n",
      "40                4                 5           \n",
      "50                10                10          \n",
      "60                15                15          \n",
      "70                21                20          \n",
      "80                26                25          \n",
      "90                32                30          \n",
      "100               37                35          \n"
     ]
    }
   ],
   "source": [
    "def deg(F):\n",
    "    return (F-32)*5/9\n",
    "\n",
    "F = list(range(0, 101, 10))\n",
    "C = []\n",
    "\n",
    "for i in F:\n",
    "    C += [deg(i)]\n",
    "    \n",
    "def approx(F):\n",
    "    return (F-30)/2\n",
    "\n",
    "C_approx = []\n",
    "\n",
    "for k in F:\n",
    "    C_approx += [approx(k)]\n",
    "\n",
    "\n",
    "print('Fahrenheit        Celsius           Approximate Celsius')\n",
    "for a,b,c in zip(F, C, C_approx):\n",
    "    print('%-12i      %-12i      %-12i' % (a, b, c)) "
   ]
  },
  {
   "cell_type": "markdown",
   "metadata": {},
   "source": [
    "## population_table2.py"
   ]
  },
  {
   "cell_type": "code",
   "execution_count": 48,
   "metadata": {},
   "outputs": [
    {
     "name": "stdout",
     "output_type": "stream",
     "text": [
      "Tid (h)       Populasjon (stk)\n",
      "0             5000        \n",
      "4             9912        \n",
      "8             17748       \n",
      "12            27526       \n",
      "16            36580       \n",
      "20            42924       \n",
      "24            46551       \n",
      "28            48389       \n",
      "32            49263       \n",
      "36            49666       \n",
      "40            49849       \n",
      "44            49932       \n",
      "48            49969       \n",
      "\n",
      "----------------------\n",
      "\n",
      "[0, 5000.0]\n",
      "[4, 9912.8449251102]\n",
      "[8, 17748.946156447553]\n",
      "[12, 27526.04324880943]\n",
      "[16, 36580.19548913157]\n",
      "[20, 42924.32248791071]\n",
      "[24, 46551.99938399246]\n",
      "[28, 48389.558080265095]\n",
      "[32, 49263.31561672727]\n",
      "[36, 49666.27875017217]\n",
      "[40, 49849.49621300692]\n",
      "[44, 49932.262009407634]\n",
      "[48, 49969.54063534766]\n"
     ]
    }
   ],
   "source": [
    "from math import exp\n",
    "\n",
    "#a)\n",
    "\n",
    "def f(B, k, C, t):                                     \n",
    "    return B/(1 + C*exp(-k*t))                         \n",
    "           \n",
    "B = 50000                                              \n",
    "k = 0.2                                                \n",
    "C = (B/5000) - 1                                       \n",
    "tid = 48                                               \n",
    "N = []                                                 \n",
    "           \n",
    "n = 12                                                 \n",
    "h = int(tid/n)                                         \n",
    "\n",
    "t = list(range(0, tid+1, h))                           \n",
    "         \n",
    "for i in t:                                 \n",
    "    N.append(f(B, k, C, i))\n",
    "\n",
    "\n",
    "tN1 = [t, N]\n",
    "\n",
    "print('Tid (h)       Populasjon (stk)')\n",
    "for i in range(len(t)):\n",
    "    print('%-12i  %-12i' % ((tN1[0][i], tN1[1][i])))\n",
    "    \n",
    "#b)\n",
    "print('''\n",
    "----------------------\n",
    "''')\n",
    "\n",
    "tN2 = [[tid, stk] for tid, stk in zip(tN1[0], tN1[1])]\n",
    "\n",
    "for i in range(len(t)):\n",
    "    print(tN2[i])"
   ]
  },
  {
   "cell_type": "markdown",
   "metadata": {},
   "source": [
    "## pop_func.py"
   ]
  },
  {
   "cell_type": "code",
   "execution_count": 3,
   "metadata": {},
   "outputs": [
    {
     "name": "stdout",
     "output_type": "stream",
     "text": [
      "Tid (h)     Populasjon (stk)\n",
      "0           5000        \n",
      "1           5974        \n",
      "2           7109        \n",
      "3           8418        \n",
      "4           9912        \n",
      "5           11598       \n",
      "6           13474       \n",
      "7           15530       \n",
      "8           17748       \n",
      "9           20098       \n",
      "10          22542       \n",
      "11          25034       \n",
      "12          27526       \n",
      "13          29967       \n",
      "14          32314       \n",
      "15          34528       \n",
      "16          36580       \n",
      "17          38450       \n",
      "18          40131       \n",
      "19          41620       \n",
      "20          42924       \n",
      "21          44054       \n",
      "22          45024       \n",
      "23          45851       \n",
      "24          46551       \n",
      "25          47141       \n",
      "26          47634       \n",
      "27          48046       \n",
      "28          48389       \n",
      "29          48673       \n",
      "30          48908       \n",
      "31          49103       \n",
      "32          49263       \n",
      "33          49395       \n",
      "34          49503       \n",
      "35          49592       \n",
      "36          49666       \n",
      "37          49726       \n",
      "38          49775       \n",
      "39          49816       \n",
      "40          49849       \n",
      "41          49876       \n",
      "42          49899       \n",
      "43          49917       \n",
      "44          49932       \n",
      "45          49944       \n",
      "46          49954       \n",
      "47          49962       \n",
      "48          49969       \n"
     ]
    }
   ],
   "source": [
    "from math import exp\n",
    "\n",
    "def population(t, k, B, C):                                     \n",
    "    return B/(1 + C*exp(-k*t))                         \n",
    "\n",
    "B = 50000                                              \n",
    "k = 0.2                                                \n",
    "C = (B/5000) - 1                                       \n",
    "tid = 48                                               \n",
    "N = []                                                 \n",
    "\n",
    "t = list(range(0, tid+1))                           \n",
    "\n",
    "for i in t:                                 \n",
    "    N += [population(i, k, B, C)]\n",
    "\n",
    "print('Tid (h)     Populasjon (stk)')                  \n",
    "for a,b in zip(t, N):                                 \n",
    "    print('%-12i%-12i' % (a, b))"
   ]
  },
  {
   "cell_type": "markdown",
   "metadata": {},
   "source": [
    "## half_wave.py"
   ]
  },
  {
   "cell_type": "code",
   "execution_count": 1,
   "metadata": {},
   "outputs": [],
   "source": [
    "from math import sin, asin\n",
    "\n",
    "def f(x):\n",
    "    if sin(x) > 0:\n",
    "        return sin(x)\n",
    "    elif sin(x) <= 0:\n",
    "        return 0\n",
    "    \n",
    "def test_f():\n",
    "    \"\"\"\n",
    "    Test verdiene i funksjonen f(x) når sin(x) > 0 og sin(x) <= 0\n",
    "    \"\"\"\n",
    "    x1 = asin(1)\n",
    "    x2 = asin(-1)\n",
    "    forventet_x1 = sin(x1)\n",
    "    forventet_x2 = 0\n",
    "    beregnet_x1 = f(x1) \n",
    "    beregnet_x2 = f(x2)\n",
    "    toleranse = 1E-14\n",
    "    suksess_x1 = abs(forventet_x1 - beregnet_x1) < toleranse\n",
    "    suksess_x2 = abs(forventet_x2 - beregnet_x2) < toleranse\n",
    "    msg_x1 = f'beregnet verdi = {beregnet_x1} =! {forventet_x1} (forventet)'\n",
    "    msg_x2 = f'beregnet verdi = {beregnet_x2} =! {forventet_x2} (forventet)'\n",
    "    assert suksess_x1, msg_x1\n",
    "    assert suksess_x2, msg_x2\n",
    "\n",
    "test_f()"
   ]
  },
  {
   "cell_type": "markdown",
   "metadata": {},
   "source": [
    "## triangle_area.py"
   ]
  },
  {
   "cell_type": "code",
   "execution_count": 2,
   "metadata": {},
   "outputs": [
    {
     "name": "stdout",
     "output_type": "stream",
     "text": [
      "Arealet av trekanten med hjørnene (0, 0), (1, 0) og (0, 2) er 1.0\n"
     ]
    }
   ],
   "source": [
    "def triangle_area(vertices):\n",
    "    [x1, y1], [x2, y2], [x3, y3] = vertices\n",
    "    A = 0.5*abs(x2*y3-x3*y2-x1*y3+x3*y1+x1*y2+x2*y1)\n",
    "    return A\n",
    "\n",
    "def test_triangle_area():\n",
    "    \"\"\"\n",
    "    Verify the area of a triangle with vertices\n",
    "    (0,0), (1,0), and (0,2).\n",
    "    \"\"\"\n",
    "    v1 = (0,0); v2 = (1,0); v3 = (0,2)\n",
    "    vertices = [v1, v2, v3]\n",
    "    expected = 1\n",
    "    computed = triangle_area(vertices)\n",
    "    tol = 1E-14\n",
    "    success = abs(expected - computed) < tol\n",
    "    msg = f\"computed area={computed} != {expected}(expected)\"\n",
    "    assert success, msg\n",
    "\n",
    "test_triangle_area()\n",
    "\n",
    "a = (0, 0)\n",
    "b = (1, 0)\n",
    "c = (0, 2)\n",
    "\n",
    "vertices = [a, b, c]\n",
    "\n",
    "print(f'Arealet av trekanten med hjørnene {a}, {b} og {c} er {triangle_area(vertices)}')"
   ]
  },
  {
   "cell_type": "code",
   "execution_count": null,
   "metadata": {},
   "outputs": [],
   "source": []
  },
  {
   "cell_type": "code",
   "execution_count": null,
   "metadata": {},
   "outputs": [],
   "source": []
  }
 ],
 "metadata": {
  "kernelspec": {
   "display_name": "Python 3",
   "language": "python",
   "name": "python3"
  },
  "language_info": {
   "codemirror_mode": {
    "name": "ipython",
    "version": 3
   },
   "file_extension": ".py",
   "mimetype": "text/x-python",
   "name": "python",
   "nbconvert_exporter": "python",
   "pygments_lexer": "ipython3",
   "version": "3.7.3"
  }
 },
 "nbformat": 4,
 "nbformat_minor": 4
}
