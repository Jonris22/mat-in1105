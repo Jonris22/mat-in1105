{
 "cells": [
  {
   "cell_type": "markdown",
   "metadata": {},
   "source": [
    "## Exercise 1.6: Compute the growth of money in a bank\n",
    "#### Let __p__ be a bank’s interest rate in percent per year. An initial amount A has then grown to\n",
    "#### $$A(1 + \\frac{p}{100})^n$$\n",
    "#### after __n__ years. Make a program for computing how much money 1000 euros have grown to after three years with 5 percent interest rate."
   ]
  },
  {
   "cell_type": "code",
   "execution_count": 3,
   "metadata": {},
   "outputs": [
    {
     "name": "stdout",
     "output_type": "stream",
     "text": [
      "Etter 3år vil summen ha økt med 157.63 Euro\n"
     ]
    }
   ],
   "source": [
    "import numpy as np\n",
    "\n",
    "def bank(A, p, n): #Lager en definisjon som trenger argumentene A, p og n\n",
    "    return A*(1 + p/100)**n #Returnerer løsningen av funksjonen\n",
    "\n",
    "A = 1000 #Definerer startsummen som 1000 Euro\n",
    "p = 5 #Definerer rentene som 5%\n",
    "n = 3 #Definerer antall år som 3\n",
    "\n",
    "print(f'Etter {n}år vil summen ha økt med {(bank(A, p, n) - A):.2f} Euro')"
   ]
  },
  {
   "cell_type": "markdown",
   "metadata": {},
   "source": [
    "## Exercise 1.11: Compute the air resistance on a football\n",
    "#### The drag force, due to air resistance, on an object can be expressed as\n",
    "#### $$F_d = \\frac{1}{2} C_D \\rho A V^2$$\n",
    "#### where $\\rho$ is the density of the air, $V$ is the velocity of the object, $A$ is the crosssectional area (normal to the velocity direction), and $C_D$ is the drag coefficient, which depends heavily on the shape of the object and the roughness of the surface. The gravity force on an object with mass $m$ is $F_g = mg$, where $g = 9.81 \\frac{m}{s^2}$. We can use the formulas for $F_d$ and $F_g$ to study the importance of air resistance versus gravity when kicking a football. The density of air is $\\rho = 1.2 kg m^{-3}$. We have $A = \\pi a^2$ for any ball with radius $a$. For a football, $a = 11 cm$ and the mass is $0.43 kg$. The drag coefficient $C_D$ varies with the velocity and can be taken as $0.4$. Make a program that computes the drag force and the gravity force on a football. Write out the forces with one decimal in units of Newton ($N = \\frac{kg m}{s^2}$). Also print the ratio of the drag force and the gravity force. Define $C_D$, $\\rho$, $A$, $V$ , $m$, $g$, $F_d$ , and $F_g$ as variables, and put a comment with the corresponding unit. Use the program to calculate the forces on the ball for a hard kick, $V = 120 \\frac{km}{h}$ and for a soft kick, $V = 30 \\frac{km}{h}$ (it is easy to mix inconsistent units, so make sure you compute with $V$ expressed in $\\frac{m}{s}$)."
   ]
  },
  {
   "cell_type": "code",
   "execution_count": 10,
   "metadata": {},
   "outputs": [
    {
     "name": "stdout",
     "output_type": "stream",
     "text": [
      "Med en fart på 33.33 m/s er tyngdekraften 4.22N og luftmotstanden 10.14N\n",
      "Med en fart på 8.33 m/s er tyngdekraften 4.22N og luftmotstanden 0.63N\n"
     ]
    }
   ],
   "source": [
    "g = 9.81 #tyngdeakselerasjonen\n",
    "rho = 1.2 #lufttetthet\n",
    "a = 0.11 #radiusen til fotballen\n",
    "A = np.pi*(a**2) #Arealet til fotballen\n",
    "m = 0.43 #Massen til fotballen\n",
    "C_D = 0.4 #Dragkoeffisienten til en kule\n",
    "F_g = m*g #tyngdekraften\n",
    "\n",
    "V = 120 / 3.6 #Farten i m/s for et hardt spark\n",
    "F_d = 0.5*C_D*rho*A*(V**2) #Luftmotstand under et hardt spark\n",
    "print(f'Med en fart på {V:.2f} m/s er tyngdekraften {F_g:.2f}N og luftmotstanden {F_d:.2f}N')\n",
    "\n",
    "\n",
    "V = 30 / 3.6 #Farten i m/s for et svakt spark\n",
    "F_d = 0.5*C_D*rho*A*(V**2) #Luftmotstand under et svakt spark\n",
    "print(f'Med en fart på {V:.2f} m/s er tyngdekraften {F_g:.2f}N og luftmotstanden {F_d:.2f}N')"
   ]
  },
  {
   "cell_type": "markdown",
   "metadata": {},
   "source": [
    "## Problem 1.2. Population growth\n",
    "#### The growth of a population can often be described by a logistic function\n",
    "#### $$N(t) = \\frac{B}{1 + Ce^{-kt}}$$\n",
    "#### where $B$ is the carrying capacity of the species in the environment, i.e., the maximum size of the population that the environment can sustain indefinitely. The constant $k$ tells us something about how fast the population grows, while $C$ is given by the initial conditions. Let us consider a bacterial colony where we take the carrying capacity to be $B = 50000$ and $k = 0.2h^{-1}$. If the population is $5000$ at $t = 0$, find $C$ and write a code that finds the number of bacteria in the colony after $24$ hours."
   ]
  },
  {
   "cell_type": "code",
   "execution_count": 2,
   "metadata": {},
   "outputs": [
    {
     "name": "stdout",
     "output_type": "stream",
     "text": [
      "1186.2752158337328\n"
     ]
    }
   ],
   "source": [
    "import math\n",
    "\n",
    "def N(B, k, C, t): #Definerer en funksjon for variablene B, k, C og t\n",
    "    return B/(1 + C*math.exp(-k*t)) #Returnerer summen av uttrykket når funksjonen blir kalt på\n",
    "\n",
    "B = 50000 #Maks befolkning\n",
    "k = 0.2 #Økningsfaktor per time\n",
    "C = 5000 #Start befolkning\n",
    "t = 24 #tid i timer\n",
    "\n",
    "print(f'{N(B, k, C, t):.2f}') #N(B, k, C, t) kaller på funksjonen N() med de bestemte variablene"
   ]
  },
  {
   "cell_type": "code",
   "execution_count": null,
   "metadata": {},
   "outputs": [],
   "source": []
  }
 ],
 "metadata": {
  "kernelspec": {
   "display_name": "Python 3",
   "language": "python",
   "name": "python3"
  },
  "language_info": {
   "codemirror_mode": {
    "name": "ipython",
    "version": 3
   },
   "file_extension": ".py",
   "mimetype": "text/x-python",
   "name": "python",
   "nbconvert_exporter": "python",
   "pygments_lexer": "ipython3",
   "version": "3.7.3"
  }
 },
 "nbformat": 4,
 "nbformat_minor": 4
}
